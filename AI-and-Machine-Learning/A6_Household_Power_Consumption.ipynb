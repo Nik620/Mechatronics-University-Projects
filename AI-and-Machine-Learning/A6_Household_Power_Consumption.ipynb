{
 "cells": [
  {
   "cell_type": "markdown",
   "id": "30a9dd16-24c8-4943-b811-d44654d8d37a",
   "metadata": {
    "id": "30a9dd16-24c8-4943-b811-d44654d8d37a"
   },
   "source": [
    "# Household Power Consumption"
   ]
  },
  {
   "cell_type": "markdown",
   "id": "1b9165fd-0c44-496e-88fe-6403aaebda99",
   "metadata": {
    "id": "1b9165fd-0c44-496e-88fe-6403aaebda99"
   },
   "source": [
    "## Section 1 - Project Overview"
   ]
  },
  {
   "cell_type": "markdown",
   "id": "d5a8a03e-0e40-4da2-93bc-85516e3c4bb3",
   "metadata": {
    "id": "d5a8a03e-0e40-4da2-93bc-85516e3c4bb3"
   },
   "source": [
    "In this project, we will be studying some household power consumption over time using LSTM."
   ]
  },
  {
   "cell_type": "markdown",
   "id": "933a7019-ff3a-4ae9-aa0b-f73fa9e7aef3",
   "metadata": {
    "id": "933a7019-ff3a-4ae9-aa0b-f73fa9e7aef3"
   },
   "source": [
    "## Section 2 - Data Preprocessing"
   ]
  },
  {
   "cell_type": "markdown",
   "id": "9a30c221-ef35-41c7-8cf1-3df623272a76",
   "metadata": {
    "id": "9a30c221-ef35-41c7-8cf1-3df623272a76"
   },
   "source": [
    "### Import Libraries"
   ]
  },
  {
   "cell_type": "code",
   "execution_count": 1,
   "id": "5b0c539d-a879-4cb0-a8a8-4e8a26e1b0f8",
   "metadata": {
    "id": "5b0c539d-a879-4cb0-a8a8-4e8a26e1b0f8"
   },
   "outputs": [],
   "source": [
    "import tensorflow as tf\n",
    "import pandas as pd\n",
    "import os\n",
    "import requests"
   ]
  },
  {
   "cell_type": "code",
   "execution_count": 3,
   "id": "9a75ee33-07d3-4e26-b8a7-9ddd727daf77",
   "metadata": {
    "colab": {
     "base_uri": "https://localhost:8080/",
     "height": 0
    },
    "id": "9a75ee33-07d3-4e26-b8a7-9ddd727daf77",
    "outputId": "c17a637d-3a58-42b0-ee4c-53f3cc2d5dc4"
   },
   "outputs": [
    {
     "name": "stderr",
     "output_type": "stream",
     "text": [
      "C:\\Users\\nikol\\AppData\\Local\\Temp\\ipykernel_5700\\1769041611.py:16: FutureWarning: DataFrame.fillna with 'method' is deprecated and will raise in a future version. Use obj.ffill() or obj.bfill() instead.\n",
      "  df = df.fillna(method='ffill')\n"
     ]
    },
    {
     "name": "stdout",
     "output_type": "stream",
     "text": [
      "<class 'pandas.core.frame.DataFrame'>\n",
      "RangeIndex: 2075259 entries, 0 to 2075258\n",
      "Data columns (total 9 columns):\n",
      " #   Column                 Dtype  \n",
      "---  ------                 -----  \n",
      " 0   Date                   object \n",
      " 1   Time                   object \n",
      " 2   Global_active_power    float64\n",
      " 3   Global_reactive_power  float64\n",
      " 4   Voltage                float64\n",
      " 5   Global_intensity       float64\n",
      " 6   Sub_metering_1         float64\n",
      " 7   Sub_metering_2         float64\n",
      " 8   Sub_metering_3         float64\n",
      "dtypes: float64(7), object(2)\n",
      "memory usage: 142.5+ MB\n",
      "None\n"
     ]
    }
   ],
   "source": [
    "#Support from microsoft copilot to help convert floats\n",
    "\n",
    "import pandas as pd\n",
    "\n",
    "# Step 1: Define the file path\n",
    "file_path = 'household_power_consumption.txt'\n",
    "\n",
    "# Step 2: Read the .txt file with ';' as delimiter\n",
    "df = pd.read_csv(file_path, delimiter=';', low_memory=False)\n",
    "\n",
    "# Step 3: Convert relevant columns to numeric, forcing conversion and setting errors to NaN\n",
    "columns_to_convert = ['Global_active_power', 'Global_reactive_power', 'Voltage', 'Global_intensity', 'Sub_metering_1', 'Sub_metering_2']\n",
    "for column in columns_to_convert: df[column] = pd.to_numeric(df[column], errors='coerce')\n",
    "\n",
    "# Step 4: Handle missing values (forward fill in this example)\n",
    "df = df.fillna(method='ffill')\n",
    "\n",
    "# Step 5: Check the DataFrame info to ensure correct types\n",
    "print(df.info())"
   ]
  },
  {
   "cell_type": "markdown",
   "id": "499fc39e-ea8c-4745-9a24-0a310b4bc904",
   "metadata": {
    "id": "499fc39e-ea8c-4745-9a24-0a310b4bc904"
   },
   "source": [
    "Exploring the dataset"
   ]
  },
  {
   "cell_type": "code",
   "execution_count": 4,
   "id": "481f99e5-f6bd-43c3-bf24-b14a6ba14f3b",
   "metadata": {
    "colab": {
     "base_uri": "https://localhost:8080/",
     "height": 226
    },
    "id": "481f99e5-f6bd-43c3-bf24-b14a6ba14f3b",
    "outputId": "02712418-0bec-4960-c0f6-9f13cf24c659"
   },
   "outputs": [
    {
     "data": {
      "text/html": [
       "<div>\n",
       "<style scoped>\n",
       "    .dataframe tbody tr th:only-of-type {\n",
       "        vertical-align: middle;\n",
       "    }\n",
       "\n",
       "    .dataframe tbody tr th {\n",
       "        vertical-align: top;\n",
       "    }\n",
       "\n",
       "    .dataframe thead th {\n",
       "        text-align: right;\n",
       "    }\n",
       "</style>\n",
       "<table border=\"1\" class=\"dataframe\">\n",
       "  <thead>\n",
       "    <tr style=\"text-align: right;\">\n",
       "      <th></th>\n",
       "      <th>Date</th>\n",
       "      <th>Time</th>\n",
       "      <th>Global_active_power</th>\n",
       "      <th>Global_reactive_power</th>\n",
       "      <th>Voltage</th>\n",
       "      <th>Global_intensity</th>\n",
       "      <th>Sub_metering_1</th>\n",
       "      <th>Sub_metering_2</th>\n",
       "      <th>Sub_metering_3</th>\n",
       "    </tr>\n",
       "  </thead>\n",
       "  <tbody>\n",
       "    <tr>\n",
       "      <th>0</th>\n",
       "      <td>16/12/2006</td>\n",
       "      <td>17:24:00</td>\n",
       "      <td>4.216</td>\n",
       "      <td>0.418</td>\n",
       "      <td>234.84</td>\n",
       "      <td>18.4</td>\n",
       "      <td>0.0</td>\n",
       "      <td>1.0</td>\n",
       "      <td>17.0</td>\n",
       "    </tr>\n",
       "    <tr>\n",
       "      <th>1</th>\n",
       "      <td>16/12/2006</td>\n",
       "      <td>17:25:00</td>\n",
       "      <td>5.360</td>\n",
       "      <td>0.436</td>\n",
       "      <td>233.63</td>\n",
       "      <td>23.0</td>\n",
       "      <td>0.0</td>\n",
       "      <td>1.0</td>\n",
       "      <td>16.0</td>\n",
       "    </tr>\n",
       "    <tr>\n",
       "      <th>2</th>\n",
       "      <td>16/12/2006</td>\n",
       "      <td>17:26:00</td>\n",
       "      <td>5.374</td>\n",
       "      <td>0.498</td>\n",
       "      <td>233.29</td>\n",
       "      <td>23.0</td>\n",
       "      <td>0.0</td>\n",
       "      <td>2.0</td>\n",
       "      <td>17.0</td>\n",
       "    </tr>\n",
       "    <tr>\n",
       "      <th>3</th>\n",
       "      <td>16/12/2006</td>\n",
       "      <td>17:27:00</td>\n",
       "      <td>5.388</td>\n",
       "      <td>0.502</td>\n",
       "      <td>233.74</td>\n",
       "      <td>23.0</td>\n",
       "      <td>0.0</td>\n",
       "      <td>1.0</td>\n",
       "      <td>17.0</td>\n",
       "    </tr>\n",
       "    <tr>\n",
       "      <th>4</th>\n",
       "      <td>16/12/2006</td>\n",
       "      <td>17:28:00</td>\n",
       "      <td>3.666</td>\n",
       "      <td>0.528</td>\n",
       "      <td>235.68</td>\n",
       "      <td>15.8</td>\n",
       "      <td>0.0</td>\n",
       "      <td>1.0</td>\n",
       "      <td>17.0</td>\n",
       "    </tr>\n",
       "  </tbody>\n",
       "</table>\n",
       "</div>"
      ],
      "text/plain": [
       "         Date      Time  Global_active_power  Global_reactive_power  Voltage  \\\n",
       "0  16/12/2006  17:24:00                4.216                  0.418   234.84   \n",
       "1  16/12/2006  17:25:00                5.360                  0.436   233.63   \n",
       "2  16/12/2006  17:26:00                5.374                  0.498   233.29   \n",
       "3  16/12/2006  17:27:00                5.388                  0.502   233.74   \n",
       "4  16/12/2006  17:28:00                3.666                  0.528   235.68   \n",
       "\n",
       "   Global_intensity  Sub_metering_1  Sub_metering_2  Sub_metering_3  \n",
       "0              18.4             0.0             1.0            17.0  \n",
       "1              23.0             0.0             1.0            16.0  \n",
       "2              23.0             0.0             2.0            17.0  \n",
       "3              23.0             0.0             1.0            17.0  \n",
       "4              15.8             0.0             1.0            17.0  "
      ]
     },
     "execution_count": 4,
     "metadata": {},
     "output_type": "execute_result"
    }
   ],
   "source": [
    "df.head()"
   ]
  },
  {
   "cell_type": "code",
   "execution_count": 5,
   "id": "5e1f2d43-116e-4964-a4de-33da9fd2bb61",
   "metadata": {
    "id": "5e1f2d43-116e-4964-a4de-33da9fd2bb61"
   },
   "outputs": [
    {
     "data": {
      "text/html": [
       "<div>\n",
       "<style scoped>\n",
       "    .dataframe tbody tr th:only-of-type {\n",
       "        vertical-align: middle;\n",
       "    }\n",
       "\n",
       "    .dataframe tbody tr th {\n",
       "        vertical-align: top;\n",
       "    }\n",
       "\n",
       "    .dataframe thead th {\n",
       "        text-align: right;\n",
       "    }\n",
       "</style>\n",
       "<table border=\"1\" class=\"dataframe\">\n",
       "  <thead>\n",
       "    <tr style=\"text-align: right;\">\n",
       "      <th></th>\n",
       "      <th>Global_active_power</th>\n",
       "      <th>Global_reactive_power</th>\n",
       "      <th>Voltage</th>\n",
       "      <th>Global_intensity</th>\n",
       "      <th>Sub_metering_1</th>\n",
       "      <th>Sub_metering_2</th>\n",
       "      <th>Sub_metering_3</th>\n",
       "    </tr>\n",
       "  </thead>\n",
       "  <tbody>\n",
       "    <tr>\n",
       "      <th>count</th>\n",
       "      <td>2.075259e+06</td>\n",
       "      <td>2.075259e+06</td>\n",
       "      <td>2.075259e+06</td>\n",
       "      <td>2.075259e+06</td>\n",
       "      <td>2.075259e+06</td>\n",
       "      <td>2.075259e+06</td>\n",
       "      <td>2.075259e+06</td>\n",
       "    </tr>\n",
       "    <tr>\n",
       "      <th>mean</th>\n",
       "      <td>1.086168e+00</td>\n",
       "      <td>1.233280e-01</td>\n",
       "      <td>2.408416e+02</td>\n",
       "      <td>4.604226e+00</td>\n",
       "      <td>1.110995e+00</td>\n",
       "      <td>1.287958e+00</td>\n",
       "      <td>6.416570e+00</td>\n",
       "    </tr>\n",
       "    <tr>\n",
       "      <th>std</th>\n",
       "      <td>1.053172e+00</td>\n",
       "      <td>1.125144e-01</td>\n",
       "      <td>3.235574e+00</td>\n",
       "      <td>4.426775e+00</td>\n",
       "      <td>6.115908e+00</td>\n",
       "      <td>5.786865e+00</td>\n",
       "      <td>8.419505e+00</td>\n",
       "    </tr>\n",
       "    <tr>\n",
       "      <th>min</th>\n",
       "      <td>7.600000e-02</td>\n",
       "      <td>0.000000e+00</td>\n",
       "      <td>2.232000e+02</td>\n",
       "      <td>2.000000e-01</td>\n",
       "      <td>0.000000e+00</td>\n",
       "      <td>0.000000e+00</td>\n",
       "      <td>0.000000e+00</td>\n",
       "    </tr>\n",
       "    <tr>\n",
       "      <th>25%</th>\n",
       "      <td>3.080000e-01</td>\n",
       "      <td>4.800000e-02</td>\n",
       "      <td>2.390000e+02</td>\n",
       "      <td>1.400000e+00</td>\n",
       "      <td>0.000000e+00</td>\n",
       "      <td>0.000000e+00</td>\n",
       "      <td>0.000000e+00</td>\n",
       "    </tr>\n",
       "    <tr>\n",
       "      <th>50%</th>\n",
       "      <td>5.980000e-01</td>\n",
       "      <td>1.000000e-01</td>\n",
       "      <td>2.410200e+02</td>\n",
       "      <td>2.600000e+00</td>\n",
       "      <td>0.000000e+00</td>\n",
       "      <td>0.000000e+00</td>\n",
       "      <td>1.000000e+00</td>\n",
       "    </tr>\n",
       "    <tr>\n",
       "      <th>75%</th>\n",
       "      <td>1.524000e+00</td>\n",
       "      <td>1.940000e-01</td>\n",
       "      <td>2.428700e+02</td>\n",
       "      <td>6.400000e+00</td>\n",
       "      <td>0.000000e+00</td>\n",
       "      <td>1.000000e+00</td>\n",
       "      <td>1.700000e+01</td>\n",
       "    </tr>\n",
       "    <tr>\n",
       "      <th>max</th>\n",
       "      <td>1.112200e+01</td>\n",
       "      <td>1.390000e+00</td>\n",
       "      <td>2.541500e+02</td>\n",
       "      <td>4.840000e+01</td>\n",
       "      <td>8.800000e+01</td>\n",
       "      <td>8.000000e+01</td>\n",
       "      <td>3.100000e+01</td>\n",
       "    </tr>\n",
       "  </tbody>\n",
       "</table>\n",
       "</div>"
      ],
      "text/plain": [
       "       Global_active_power  Global_reactive_power       Voltage  \\\n",
       "count         2.075259e+06           2.075259e+06  2.075259e+06   \n",
       "mean          1.086168e+00           1.233280e-01  2.408416e+02   \n",
       "std           1.053172e+00           1.125144e-01  3.235574e+00   \n",
       "min           7.600000e-02           0.000000e+00  2.232000e+02   \n",
       "25%           3.080000e-01           4.800000e-02  2.390000e+02   \n",
       "50%           5.980000e-01           1.000000e-01  2.410200e+02   \n",
       "75%           1.524000e+00           1.940000e-01  2.428700e+02   \n",
       "max           1.112200e+01           1.390000e+00  2.541500e+02   \n",
       "\n",
       "       Global_intensity  Sub_metering_1  Sub_metering_2  Sub_metering_3  \n",
       "count      2.075259e+06    2.075259e+06    2.075259e+06    2.075259e+06  \n",
       "mean       4.604226e+00    1.110995e+00    1.287958e+00    6.416570e+00  \n",
       "std        4.426775e+00    6.115908e+00    5.786865e+00    8.419505e+00  \n",
       "min        2.000000e-01    0.000000e+00    0.000000e+00    0.000000e+00  \n",
       "25%        1.400000e+00    0.000000e+00    0.000000e+00    0.000000e+00  \n",
       "50%        2.600000e+00    0.000000e+00    0.000000e+00    1.000000e+00  \n",
       "75%        6.400000e+00    0.000000e+00    1.000000e+00    1.700000e+01  \n",
       "max        4.840000e+01    8.800000e+01    8.000000e+01    3.100000e+01  "
      ]
     },
     "execution_count": 5,
     "metadata": {},
     "output_type": "execute_result"
    }
   ],
   "source": [
    "df.describe()"
   ]
  },
  {
   "cell_type": "code",
   "execution_count": 6,
   "id": "258a9303-2b1a-4f9d-b896-2e7250071206",
   "metadata": {
    "colab": {
     "base_uri": "https://localhost:8080/",
     "height": 0
    },
    "id": "258a9303-2b1a-4f9d-b896-2e7250071206",
    "outputId": "6c123ab1-c361-4eca-c67a-ac0c5bfc05fe"
   },
   "outputs": [
    {
     "name": "stdout",
     "output_type": "stream",
     "text": [
      "<class 'pandas.core.frame.DataFrame'>\n",
      "RangeIndex: 2075259 entries, 0 to 2075258\n",
      "Data columns (total 9 columns):\n",
      " #   Column                 Dtype  \n",
      "---  ------                 -----  \n",
      " 0   Date                   object \n",
      " 1   Time                   object \n",
      " 2   Global_active_power    float64\n",
      " 3   Global_reactive_power  float64\n",
      " 4   Voltage                float64\n",
      " 5   Global_intensity       float64\n",
      " 6   Sub_metering_1         float64\n",
      " 7   Sub_metering_2         float64\n",
      " 8   Sub_metering_3         float64\n",
      "dtypes: float64(7), object(2)\n",
      "memory usage: 142.5+ MB\n"
     ]
    }
   ],
   "source": [
    "df.info()"
   ]
  },
  {
   "cell_type": "markdown",
   "id": "c44c9e9b-420d-4e4d-95f2-507384aa258d",
   "metadata": {
    "id": "c44c9e9b-420d-4e4d-95f2-507384aa258d"
   },
   "source": [
    "### Exploring the Data"
   ]
  },
  {
   "cell_type": "code",
   "execution_count": 7,
   "id": "abbf0d99-39d0-4b5c-bb4c-501b56270d4b",
   "metadata": {
    "colab": {
     "base_uri": "https://localhost:8080/",
     "height": 564
    },
    "id": "abbf0d99-39d0-4b5c-bb4c-501b56270d4b",
    "outputId": "59508af7-b4d4-4f70-8135-79ef2c32d52a"
   },
   "outputs": [
    {
     "data": {
      "image/png": "[encoded data removed]",
      "text/plain": [
       "<Figure size 1000x600 with 1 Axes>"
      ]
     },
     "metadata": {},
     "output_type": "display_data"
    }
   ],
   "source": [
    "# Create a numeric time vector\n",
    "time = pd.Series(range(len(df)))\n",
    "series = df['Voltage']\n",
    "\n",
    "import matplotlib.pyplot as plt\n",
    "\n",
    "# Plot the time series\n",
    "plt.figure(figsize=(10, 6))\n",
    "plt.plot(time, series)\n",
    "plt.title(\"Voltage consumption over time\")\n",
    "plt.xlabel(\"Timestamp (minutes)\")\n",
    "plt.ylabel(\"Voltage\")\n",
    "plt.grid(True)\n",
    "plt.show()"
   ]
  },
  {
   "cell_type": "markdown",
   "id": "09d03f18-7d7b-41c8-9258-4cebfbbecc79",
   "metadata": {
    "id": "09d03f18-7d7b-41c8-9258-4cebfbbecc79"
   },
   "source": [
    "Looking at Power"
   ]
  },
  {
   "cell_type": "code",
   "execution_count": 8,
   "id": "a7ef97b4-ffad-47e9-b72f-d992f006a047",
   "metadata": {
    "colab": {
     "base_uri": "https://localhost:8080/",
     "height": 564
    },
    "id": "a7ef97b4-ffad-47e9-b72f-d992f006a047",
    "outputId": "a348c715-e0fe-4fd5-c855-64b98855e2d9"
   },
   "outputs": [
    {
     "data": {
      "image/png": "[encoded data removed]",
      "text/plain": [
       "<Figure size 1000x600 with 1 Axes>"
      ]
     },
     "metadata": {},
     "output_type": "display_data"
    }
   ],
   "source": [
    "# Create a numeric time vector\n",
    "time = pd.Series(range(len(df)))\n",
    "series = df['Global_active_power']\n",
    "\n",
    "# Plot the time series\n",
    "plt.figure(figsize=(10, 6))\n",
    "plt.plot(time, series)\n",
    "plt.title(\"Voltage consumption over time\")\n",
    "plt.xlabel(\"Timestamp (minutes)\")\n",
    "plt.ylabel(\"Global Active Power\")\n",
    "plt.grid(True)\n",
    "plt.show()"
   ]
  },
  {
   "cell_type": "markdown",
   "id": "ec1d448b-92f6-4abe-8196-40627342b594",
   "metadata": {
    "id": "ec1d448b-92f6-4abe-8196-40627342b594"
   },
   "source": [
    "Overall we see fairly consistent trend data"
   ]
  },
  {
   "cell_type": "markdown",
   "id": "f1aeb5fb-91a7-418c-b115-bd70a9934647",
   "metadata": {
    "id": "f1aeb5fb-91a7-418c-b115-bd70a9934647"
   },
   "source": [
    "### Split the test and training set"
   ]
  },
  {
   "cell_type": "code",
   "execution_count": 9,
   "id": "b864b473-0bd0-4eda-aff9-3a57197cb49c",
   "metadata": {
    "id": "b864b473-0bd0-4eda-aff9-3a57197cb49c"
   },
   "outputs": [],
   "source": [
    "split_time = int(10000)\n",
    "\n",
    "# train data\n",
    "time_train = time[:split_time]\n",
    "x_train = series[:split_time]\n",
    "\n",
    "# validation dataset\n",
    "time_valid = time[split_time:]\n",
    "x_valid = series[split_time:]"
   ]
  },
  {
   "cell_type": "markdown",
   "id": "0c453f03-ed48-41e8-b3d1-d3709b9d6423",
   "metadata": {
    "id": "0c453f03-ed48-41e8-b3d1-d3709b9d6423"
   },
   "source": [
    "### Preprocessing"
   ]
  },
  {
   "cell_type": "code",
   "execution_count": 10,
   "id": "87d88518-462e-4666-b790-97b38966bc95",
   "metadata": {
    "id": "87d88518-462e-4666-b790-97b38966bc95"
   },
   "outputs": [],
   "source": [
    "import numpy as np\n",
    "import pandas as pd\n",
    "from sklearn.preprocessing import MinMaxScaler\n",
    "\n",
    "# Normalize the series using MinMaxScaler\n",
    "scaler = MinMaxScaler()\n",
    "x_train_scaled = scaler.fit_transform(np.array(x_train).reshape(-1, 1)).flatten()\n",
    "x_valid_scaled = scaler.transform(np.array(x_valid).reshape(-1, 1)).flatten()\n"
   ]
  },
  {
   "cell_type": "markdown",
   "id": "a6cfff23-5e8e-46b3-9e3e-c6fa992e8d70",
   "metadata": {
    "id": "a6cfff23-5e8e-46b3-9e3e-c6fa992e8d70"
   },
   "source": [
    "### Preparing Features"
   ]
  },
  {
   "cell_type": "code",
   "execution_count": 11,
   "id": "3f28240d-9179-4257-a669-273ff00cdca8",
   "metadata": {
    "id": "3f28240d-9179-4257-a669-273ff00cdca8"
   },
   "outputs": [],
   "source": [
    "def window_dataset(series, window_size, batch_size, shuffle_buffer):\n",
    "    # Convert the series to a tf.data.Dataset\n",
    "    dataset = tf.data.Dataset.from_tensor_slices(series)\n",
    "\n",
    "    # Create windows of size (window_size + 1) with a shift of 1\n",
    "    dataset = dataset.window(window_size + 1, shift=1, drop_remainder=True)\n",
    "\n",
    "    # Flatten each window into a single batch so each window is a tensor\n",
    "    dataset = dataset.flat_map(lambda window: window.batch(window_size + 1))\n",
    "\n",
    "    # Split each window into features (window[:-1]) and label (window[-1])\n",
    "    dataset = dataset.map(lambda window: (window[:-1], window[-1]))\n",
    "\n",
    "    # Shuffle the dataset with a buffer\n",
    "    dataset = dataset.shuffle(shuffle_buffer)\n",
    "\n",
    "    # Batch the dataset and use prefetching for optimized data loading\n",
    "    dataset = dataset.batch(batch_size).prefetch(1)\n",
    "\n",
    "    return dataset"
   ]
  },
  {
   "cell_type": "code",
   "execution_count": 12,
   "id": "84a85707-396a-4302-9297-a501e40d0ce3",
   "metadata": {
    "id": "84a85707-396a-4302-9297-a501e40d0ce3"
   },
   "outputs": [],
   "source": [
    "# parameters\n",
    "window_size = 20\n",
    "batch_size = 8\n",
    "shuffle_buffer_size = 500\n",
    "\n",
    "# Generate the training dataset using the defined function\n",
    "train_set = window_dataset(x_train_scaled, window_size, batch_size, shuffle_buffer_size)\n",
    "val_set = window_dataset(x_valid_scaled, window_size, batch_size, shuffle_buffer_size)"
   ]
  },
  {
   "cell_type": "markdown",
   "id": "26f91fad-f955-4c27-aab1-2e5700392dd5",
   "metadata": {
    "id": "26f91fad-f955-4c27-aab1-2e5700392dd5"
   },
   "source": [
    "## Section 3 - Building & Training the Model"
   ]
  },
  {
   "cell_type": "markdown",
   "id": "5592e5c5-9844-4518-b3eb-36779390c44a",
   "metadata": {
    "id": "5592e5c5-9844-4518-b3eb-36779390c44a"
   },
   "source": [
    "### Build the model"
   ]
  },
  {
   "cell_type": "code",
   "execution_count": 13,
   "id": "eed883b2-0f02-499a-a06b-56a5b82223c9",
   "metadata": {
    "colab": {
     "base_uri": "https://localhost:8080/",
     "height": 238
    },
    "id": "eed883b2-0f02-499a-a06b-56a5b82223c9",
    "outputId": "49fde4e4-f249-4daa-a3e5-1a755a92723f"
   },
   "outputs": [
    {
     "name": "stderr",
     "output_type": "stream",
     "text": [
      "C:\\Users\\nikol\\anaconda3\\Lib\\site-packages\\keras\\src\\layers\\rnn\\rnn.py:200: UserWarning: Do not pass an `input_shape`/`input_dim` argument to a layer. When using Sequential models, prefer using an `Input(shape)` object as the first layer in the model instead.\n",
      "  super().__init__(**kwargs)\n"
     ]
    },
    {
     "data": {
      "text/html": [
       "<pre style=\"white-space:pre;overflow-x:auto;line-height:normal;font-family:Menlo,'DejaVu Sans Mono',consolas,'Courier New',monospace\"><span style=\"font-weight: bold\">Model: \"sequential\"</span>\n",
       "</pre>\n"
      ],
      "text/plain": [
       "\u001b[1mModel: \"sequential\"\u001b[0m\n"
      ]
     },
     "metadata": {},
     "output_type": "display_data"
    },
    {
     "data": {
      "text/html": [
       "<pre style=\"white-space:pre;overflow-x:auto;line-height:normal;font-family:Menlo,'DejaVu Sans Mono',consolas,'Courier New',monospace\">┏━━━━━━━━━━━━━━━━━━━━━━━━━━━━━━━━━━━━━━┳━━━━━━━━━━━━━━━━━━━━━━━━━━━━━┳━━━━━━━━━━━━━━━━━┓\n",
       "┃<span style=\"font-weight: bold\"> Layer (type)                         </span>┃<span style=\"font-weight: bold\"> Output Shape                </span>┃<span style=\"font-weight: bold\">         Param # </span>┃\n",
       "┡━━━━━━━━━━━━━━━━━━━━━━━━━━━━━━━━━━━━━━╇━━━━━━━━━━━━━━━━━━━━━━━━━━━━━╇━━━━━━━━━━━━━━━━━┩\n",
       "│ lstm (<span style=\"color: #0087ff; text-decoration-color: #0087ff\">LSTM</span>)                          │ (<span style=\"color: #00d7ff; text-decoration-color: #00d7ff\">None</span>, <span style=\"color: #00af00; text-decoration-color: #00af00\">20</span>, <span style=\"color: #00af00; text-decoration-color: #00af00\">8</span>)               │             <span style=\"color: #00af00; text-decoration-color: #00af00\">320</span> │\n",
       "├──────────────────────────────────────┼─────────────────────────────┼─────────────────┤\n",
       "│ dense (<span style=\"color: #0087ff; text-decoration-color: #0087ff\">Dense</span>)                        │ (<span style=\"color: #00d7ff; text-decoration-color: #00d7ff\">None</span>, <span style=\"color: #00af00; text-decoration-color: #00af00\">20</span>, <span style=\"color: #00af00; text-decoration-color: #00af00\">8</span>)               │              <span style=\"color: #00af00; text-decoration-color: #00af00\">72</span> │\n",
       "├──────────────────────────────────────┼─────────────────────────────┼─────────────────┤\n",
       "│ dense_1 (<span style=\"color: #0087ff; text-decoration-color: #0087ff\">Dense</span>)                      │ (<span style=\"color: #00d7ff; text-decoration-color: #00d7ff\">None</span>, <span style=\"color: #00af00; text-decoration-color: #00af00\">20</span>, <span style=\"color: #00af00; text-decoration-color: #00af00\">1</span>)               │               <span style=\"color: #00af00; text-decoration-color: #00af00\">9</span> │\n",
       "└──────────────────────────────────────┴─────────────────────────────┴─────────────────┘\n",
       "</pre>\n"
      ],
      "text/plain": [
       "┏━━━━━━━━━━━━━━━━━━━━━━━━━━━━━━━━━━━━━━┳━━━━━━━━━━━━━━━━━━━━━━━━━━━━━┳━━━━━━━━━━━━━━━━━┓\n",
       "┃\u001b[1m \u001b[0m\u001b[1mLayer (type)                        \u001b[0m\u001b[1m \u001b[0m┃\u001b[1m \u001b[0m\u001b[1mOutput Shape               \u001b[0m\u001b[1m \u001b[0m┃\u001b[1m \u001b[0m\u001b[1m        Param #\u001b[0m\u001b[1m \u001b[0m┃\n",
       "┡━━━━━━━━━━━━━━━━━━━━━━━━━━━━━━━━━━━━━━╇━━━━━━━━━━━━━━━━━━━━━━━━━━━━━╇━━━━━━━━━━━━━━━━━┩\n",
       "│ lstm (\u001b[38;5;33mLSTM\u001b[0m)                          │ (\u001b[38;5;45mNone\u001b[0m, \u001b[38;5;34m20\u001b[0m, \u001b[38;5;34m8\u001b[0m)               │             \u001b[38;5;34m320\u001b[0m │\n",
       "├──────────────────────────────────────┼─────────────────────────────┼─────────────────┤\n",
       "│ dense (\u001b[38;5;33mDense\u001b[0m)                        │ (\u001b[38;5;45mNone\u001b[0m, \u001b[38;5;34m20\u001b[0m, \u001b[38;5;34m8\u001b[0m)               │              \u001b[38;5;34m72\u001b[0m │\n",
       "├──────────────────────────────────────┼─────────────────────────────┼─────────────────┤\n",
       "│ dense_1 (\u001b[38;5;33mDense\u001b[0m)                      │ (\u001b[38;5;45mNone\u001b[0m, \u001b[38;5;34m20\u001b[0m, \u001b[38;5;34m1\u001b[0m)               │               \u001b[38;5;34m9\u001b[0m │\n",
       "└──────────────────────────────────────┴─────────────────────────────┴─────────────────┘\n"
      ]
     },
     "metadata": {},
     "output_type": "display_data"
    },
    {
     "data": {
      "text/html": [
       "<pre style=\"white-space:pre;overflow-x:auto;line-height:normal;font-family:Menlo,'DejaVu Sans Mono',consolas,'Courier New',monospace\"><span style=\"font-weight: bold\"> Total params: </span><span style=\"color: #00af00; text-decoration-color: #00af00\">401</span> (1.57 KB)\n",
       "</pre>\n"
      ],
      "text/plain": [
       "\u001b[1m Total params: \u001b[0m\u001b[38;5;34m401\u001b[0m (1.57 KB)\n"
      ]
     },
     "metadata": {},
     "output_type": "display_data"
    },
    {
     "data": {
      "text/html": [
       "<pre style=\"white-space:pre;overflow-x:auto;line-height:normal;font-family:Menlo,'DejaVu Sans Mono',consolas,'Courier New',monospace\"><span style=\"font-weight: bold\"> Trainable params: </span><span style=\"color: #00af00; text-decoration-color: #00af00\">401</span> (1.57 KB)\n",
       "</pre>\n"
      ],
      "text/plain": [
       "\u001b[1m Trainable params: \u001b[0m\u001b[38;5;34m401\u001b[0m (1.57 KB)\n"
      ]
     },
     "metadata": {},
     "output_type": "display_data"
    },
    {
     "data": {
      "text/html": [
       "<pre style=\"white-space:pre;overflow-x:auto;line-height:normal;font-family:Menlo,'DejaVu Sans Mono',consolas,'Courier New',monospace\"><span style=\"font-weight: bold\"> Non-trainable params: </span><span style=\"color: #00af00; text-decoration-color: #00af00\">0</span> (0.00 B)\n",
       "</pre>\n"
      ],
      "text/plain": [
       "\u001b[1m Non-trainable params: \u001b[0m\u001b[38;5;34m0\u001b[0m (0.00 B)\n"
      ]
     },
     "metadata": {},
     "output_type": "display_data"
    }
   ],
   "source": [
    "model = tf.keras.models.Sequential([\n",
    "    tf.keras.layers.LSTM(8, return_sequences=True, input_shape=[window_size, 1]),\n",
    "    tf.keras.layers.Dense(8, activation=\"relu\"),\n",
    "    tf.keras.layers.Dense(1)\n",
    "])\n",
    "\n",
    "# Compile the model with loss and optimizer\n",
    "learning_rate = 0.1\n",
    "model.compile(loss=\"mse\", optimizer=tf.keras.optimizers.Adam(learning_rate=learning_rate))\n",
    "\n",
    "model.summary()"
   ]
  },
  {
   "cell_type": "markdown",
   "id": "0a2c4c90-8ea2-4822-8458-42cce4a79a93",
   "metadata": {
    "id": "0a2c4c90-8ea2-4822-8458-42cce4a79a93"
   },
   "source": [
    "### Train the model (this model was excluded due to the amount of time it was taking to run)"
   ]
  },
  {
   "cell_type": "markdown",
   "id": "e31a457a-4888-4d0c-a3cc-78616f044119",
   "metadata": {
    "id": "e31a457a-4888-4d0c-a3cc-78616f044119"
   },
   "source": [
    "history = model.fit(train_set, epochs=10, validation_data=val_set, verbose=0)\n",
    "\n",
    "# Plot training and validation loss\n",
    "plt.plot(history.history['loss'], label='Training Loss')\n",
    "plt.plot(history.history['val_loss'], label='Validation Loss')\n",
    "plt.title(\"Training and Validation Loss\")\n",
    "plt.xlabel(\"Epochs\")\n",
    "plt.ylabel(\"Loss\")\n",
    "plt.legend()\n",
    "plt.show()"
   ]
  },
  {
   "cell_type": "markdown",
   "id": "5631e781-ce1b-42a7-93a7-2e9b834076a7",
   "metadata": {
    "id": "5631e781-ce1b-42a7-93a7-2e9b834076a7"
   },
   "source": [
    "def model_forecast(model, series, window_size):\n",
    "    series = np.array(series)\n",
    "    forecast = []\n",
    "    for time in range(len(series) - window_size):\n",
    "        window = series[time:time + window_size]\n",
    "        window = window.reshape((1, window_size, 1))\n",
    "        prediction = model.predict(window, verbose=0)\n",
    "        forecast.append(prediction[0, 0])\n",
    "    return np.array(forecast)\n",
    "\n",
    "# Forecasting\n",
    "forecast = model_forecast(model, x_valid_scaled, window_size)\n",
    "\n",
    "# Rescale forecasted values back to the original scale\n",
    "forecast_rescaled = scaler.inverse_transform(forecast.reshape(-1, 1)).flatten()\n",
    "\n",
    "# Plot the results\n",
    "plt.figure(figsize=(10, 6))\n",
    "plt.plot(time_valid[window_size:], x_valid[window_size:], label=\"Actual\")\n",
    "plt.plot(time_valid[window_size:], forecast_rescaled, label=\"Forecasted\")\n",
    "plt.title(\"Actual vs Forecasted Global Power\")\n",
    "plt.xlabel(\"Time\")\n",
    "plt.ylabel(\"Global Power\")\n",
    "plt.legend()\n",
    "plt.show()"
   ]
  },
  {
   "cell_type": "markdown",
   "id": "520825b7-6eea-4a72-ada8-2b8a1c87ad8a",
   "metadata": {
    "id": "520825b7-6eea-4a72-ada8-2b8a1c87ad8a"
   },
   "source": [
    "# Predicting on the training dataset\n",
    "train_forecast = model_forecast(model, x_train_scaled, window_size)\n",
    "# Rescale the training forecast back to the original scale\n",
    "train_forecast_rescaled = scaler.inverse_transform(train_forecast.reshape(-1, 1)).flatten()\n",
    "\n",
    "# Predicting on the validation dataset\n",
    "val_forecast = model_forecast(model, x_valid_scaled, window_size)\n",
    "# Rescale the validation forecast back to the original scale\n",
    "val_forecast_rescaled = scaler.inverse_transform(val_forecast.reshape(-1, 1)).flatten()\n",
    "\n",
    "# Plotting both training and validation predictions along with the actual series\n",
    "plt.figure(figsize=(12, 6))\n",
    "\n",
    "# Training set plot\n",
    "plt.plot(time_train[window_size:], x_train[window_size:], label=\"Training Data (Actual)\")\n",
    "plt.plot(time_train[window_size:], train_forecast_rescaled, label=\"Training Data (Forecasted)\", linestyle=\"--\")\n",
    "\n",
    "# Validation set plot\n",
    "plt.plot(time_valid[window_size:], x_valid[window_size:], label=\"Validation Data (Actual)\")\n",
    "plt.plot(time_valid[window_size:], val_forecast_rescaled, label=\"Validation Data (Forecasted)\", linestyle=\"--\")\n",
    "\n",
    "# Formatting the plot\n",
    "plt.title(\"Training and Validation Forecasts\")\n",
    "plt.xlabel(\"Time\")\n",
    "plt.ylabel(\"Global Power\")\n",
    "plt.legend()\n",
    "plt.grid(True)\n",
    "plt.show()"
   ]
  },
  {
   "cell_type": "markdown",
   "id": "3a94ad2b-c548-4908-9019-a4070734dfc2",
   "metadata": {
    "id": "3a94ad2b-c548-4908-9019-a4070734dfc2"
   },
   "source": [
    "from sklearn.metrics import mean_squared_error\n",
    "\n",
    "# Calculate MSE for the simple LSTM model\n",
    "train_mse_simple = mean_squared_error(x_train[window_size:], train_forecast)\n",
    "val_mse_simple = mean_squared_error(x_valid[window_size:], val_forecast)"
   ]
  },
  {
   "cell_type": "markdown",
   "id": "c54b1e24-1c00-4dd1-a5d4-46effb341e5d",
   "metadata": {
    "id": "c54b1e24-1c00-4dd1-a5d4-46effb341e5d"
   },
   "source": [
    "### Keras Models"
   ]
  },
  {
   "cell_type": "code",
   "execution_count": 14,
   "id": "adbdb8ef-d8ff-438c-b1e4-b6562da1e696",
   "metadata": {
    "colab": {
     "base_uri": "https://localhost:8080/",
     "height": 272
    },
    "id": "adbdb8ef-d8ff-438c-b1e4-b6562da1e696",
    "outputId": "f18b0ff0-4453-4213-8f70-10dddb3d254a"
   },
   "outputs": [
    {
     "name": "stderr",
     "output_type": "stream",
     "text": [
      "C:\\Users\\nikol\\anaconda3\\Lib\\site-packages\\keras\\src\\layers\\convolutional\\base_conv.py:107: UserWarning: Do not pass an `input_shape`/`input_dim` argument to a layer. When using Sequential models, prefer using an `Input(shape)` object as the first layer in the model instead.\n",
      "  super().__init__(activity_regularizer=activity_regularizer, **kwargs)\n"
     ]
    },
    {
     "data": {
      "text/html": [
       "<pre style=\"white-space:pre;overflow-x:auto;line-height:normal;font-family:Menlo,'DejaVu Sans Mono',consolas,'Courier New',monospace\"><span style=\"font-weight: bold\">Model: \"sequential_1\"</span>\n",
       "</pre>\n"
      ],
      "text/plain": [
       "\u001b[1mModel: \"sequential_1\"\u001b[0m\n"
      ]
     },
     "metadata": {},
     "output_type": "display_data"
    },
    {
     "data": {
      "text/html": [
       "<pre style=\"white-space:pre;overflow-x:auto;line-height:normal;font-family:Menlo,'DejaVu Sans Mono',consolas,'Courier New',monospace\">┏━━━━━━━━━━━━━━━━━━━━━━━━━━━━━━━━━━━━━━┳━━━━━━━━━━━━━━━━━━━━━━━━━━━━━┳━━━━━━━━━━━━━━━━━┓\n",
       "┃<span style=\"font-weight: bold\"> Layer (type)                         </span>┃<span style=\"font-weight: bold\"> Output Shape                </span>┃<span style=\"font-weight: bold\">         Param # </span>┃\n",
       "┡━━━━━━━━━━━━━━━━━━━━━━━━━━━━━━━━━━━━━━╇━━━━━━━━━━━━━━━━━━━━━━━━━━━━━╇━━━━━━━━━━━━━━━━━┩\n",
       "│ conv1d (<span style=\"color: #0087ff; text-decoration-color: #0087ff\">Conv1D</span>)                      │ (<span style=\"color: #00d7ff; text-decoration-color: #00d7ff\">None</span>, <span style=\"color: #00af00; text-decoration-color: #00af00\">19</span>, <span style=\"color: #00af00; text-decoration-color: #00af00\">8</span>)               │              <span style=\"color: #00af00; text-decoration-color: #00af00\">24</span> │\n",
       "├──────────────────────────────────────┼─────────────────────────────┼─────────────────┤\n",
       "│ lstm_1 (<span style=\"color: #0087ff; text-decoration-color: #0087ff\">LSTM</span>)                        │ (<span style=\"color: #00d7ff; text-decoration-color: #00d7ff\">None</span>, <span style=\"color: #00af00; text-decoration-color: #00af00\">19</span>, <span style=\"color: #00af00; text-decoration-color: #00af00\">8</span>)               │             <span style=\"color: #00af00; text-decoration-color: #00af00\">544</span> │\n",
       "├──────────────────────────────────────┼─────────────────────────────┼─────────────────┤\n",
       "│ dense_2 (<span style=\"color: #0087ff; text-decoration-color: #0087ff\">Dense</span>)                      │ (<span style=\"color: #00d7ff; text-decoration-color: #00d7ff\">None</span>, <span style=\"color: #00af00; text-decoration-color: #00af00\">19</span>, <span style=\"color: #00af00; text-decoration-color: #00af00\">8</span>)               │              <span style=\"color: #00af00; text-decoration-color: #00af00\">72</span> │\n",
       "├──────────────────────────────────────┼─────────────────────────────┼─────────────────┤\n",
       "│ dense_3 (<span style=\"color: #0087ff; text-decoration-color: #0087ff\">Dense</span>)                      │ (<span style=\"color: #00d7ff; text-decoration-color: #00d7ff\">None</span>, <span style=\"color: #00af00; text-decoration-color: #00af00\">19</span>, <span style=\"color: #00af00; text-decoration-color: #00af00\">1</span>)               │               <span style=\"color: #00af00; text-decoration-color: #00af00\">9</span> │\n",
       "└──────────────────────────────────────┴─────────────────────────────┴─────────────────┘\n",
       "</pre>\n"
      ],
      "text/plain": [
       "┏━━━━━━━━━━━━━━━━━━━━━━━━━━━━━━━━━━━━━━┳━━━━━━━━━━━━━━━━━━━━━━━━━━━━━┳━━━━━━━━━━━━━━━━━┓\n",
       "┃\u001b[1m \u001b[0m\u001b[1mLayer (type)                        \u001b[0m\u001b[1m \u001b[0m┃\u001b[1m \u001b[0m\u001b[1mOutput Shape               \u001b[0m\u001b[1m \u001b[0m┃\u001b[1m \u001b[0m\u001b[1m        Param #\u001b[0m\u001b[1m \u001b[0m┃\n",
       "┡━━━━━━━━━━━━━━━━━━━━━━━━━━━━━━━━━━━━━━╇━━━━━━━━━━━━━━━━━━━━━━━━━━━━━╇━━━━━━━━━━━━━━━━━┩\n",
       "│ conv1d (\u001b[38;5;33mConv1D\u001b[0m)                      │ (\u001b[38;5;45mNone\u001b[0m, \u001b[38;5;34m19\u001b[0m, \u001b[38;5;34m8\u001b[0m)               │              \u001b[38;5;34m24\u001b[0m │\n",
       "├──────────────────────────────────────┼─────────────────────────────┼─────────────────┤\n",
       "│ lstm_1 (\u001b[38;5;33mLSTM\u001b[0m)                        │ (\u001b[38;5;45mNone\u001b[0m, \u001b[38;5;34m19\u001b[0m, \u001b[38;5;34m8\u001b[0m)               │             \u001b[38;5;34m544\u001b[0m │\n",
       "├──────────────────────────────────────┼─────────────────────────────┼─────────────────┤\n",
       "│ dense_2 (\u001b[38;5;33mDense\u001b[0m)                      │ (\u001b[38;5;45mNone\u001b[0m, \u001b[38;5;34m19\u001b[0m, \u001b[38;5;34m8\u001b[0m)               │              \u001b[38;5;34m72\u001b[0m │\n",
       "├──────────────────────────────────────┼─────────────────────────────┼─────────────────┤\n",
       "│ dense_3 (\u001b[38;5;33mDense\u001b[0m)                      │ (\u001b[38;5;45mNone\u001b[0m, \u001b[38;5;34m19\u001b[0m, \u001b[38;5;34m1\u001b[0m)               │               \u001b[38;5;34m9\u001b[0m │\n",
       "└──────────────────────────────────────┴─────────────────────────────┴─────────────────┘\n"
      ]
     },
     "metadata": {},
     "output_type": "display_data"
    },
    {
     "data": {
      "text/html": [
       "<pre style=\"white-space:pre;overflow-x:auto;line-height:normal;font-family:Menlo,'DejaVu Sans Mono',consolas,'Courier New',monospace\"><span style=\"font-weight: bold\"> Total params: </span><span style=\"color: #00af00; text-decoration-color: #00af00\">649</span> (2.54 KB)\n",
       "</pre>\n"
      ],
      "text/plain": [
       "\u001b[1m Total params: \u001b[0m\u001b[38;5;34m649\u001b[0m (2.54 KB)\n"
      ]
     },
     "metadata": {},
     "output_type": "display_data"
    },
    {
     "data": {
      "text/html": [
       "<pre style=\"white-space:pre;overflow-x:auto;line-height:normal;font-family:Menlo,'DejaVu Sans Mono',consolas,'Courier New',monospace\"><span style=\"font-weight: bold\"> Trainable params: </span><span style=\"color: #00af00; text-decoration-color: #00af00\">649</span> (2.54 KB)\n",
       "</pre>\n"
      ],
      "text/plain": [
       "\u001b[1m Trainable params: \u001b[0m\u001b[38;5;34m649\u001b[0m (2.54 KB)\n"
      ]
     },
     "metadata": {},
     "output_type": "display_data"
    },
    {
     "data": {
      "text/html": [
       "<pre style=\"white-space:pre;overflow-x:auto;line-height:normal;font-family:Menlo,'DejaVu Sans Mono',consolas,'Courier New',monospace\"><span style=\"font-weight: bold\"> Non-trainable params: </span><span style=\"color: #00af00; text-decoration-color: #00af00\">0</span> (0.00 B)\n",
       "</pre>\n"
      ],
      "text/plain": [
       "\u001b[1m Non-trainable params: \u001b[0m\u001b[38;5;34m0\u001b[0m (0.00 B)\n"
      ]
     },
     "metadata": {},
     "output_type": "display_data"
    }
   ],
   "source": [
    "from tensorflow.keras import layers, models\n",
    "\n",
    "# Define the model\n",
    "model = models.Sequential([\n",
    "    # 1. Convolutional Layer to learn short-term patterns\n",
    "    layers.Conv1D(filters=8, kernel_size=2, activation=\"relu\", input_shape=[window_size, 1]),\n",
    "    #layers.MaxPooling1D(pool_size=2),  # Optional pooling layer to reduce dimensionality\n",
    "\n",
    "    # 2. LSTM Layer for capturing temporal dependencies\n",
    "    layers.LSTM(8, return_sequences=True),\n",
    "\n",
    "    # 3. Dense Layers (DNN) for final prediction\n",
    "    layers.Dense(8, activation=\"relu\"),\n",
    "    layers.Dense(1)  # Final output layer for regression\n",
    "])\n",
    "\n",
    "# Compile the model\n",
    "model.compile(loss=\"mse\", optimizer=tf.keras.optimizers.Adam(learning_rate=0.001))\n",
    "\n",
    "model.summary()"
   ]
  },
  {
   "cell_type": "code",
   "execution_count": 15,
   "id": "69645ca9-2c0c-455c-aae6-b7b60ce5dcb9",
   "metadata": {
    "colab": {
     "base_uri": "https://localhost:8080/",
     "height": 0
    },
    "id": "69645ca9-2c0c-455c-aae6-b7b60ce5dcb9",
    "outputId": "525b28aa-b61f-4b6e-aed9-544895cc4c97",
    "scrolled": true
   },
   "outputs": [
    {
     "name": "stdout",
     "output_type": "stream",
     "text": [
      "Epoch 1/10\n",
      "\u001b[1m1248/1248\u001b[0m \u001b[32m━━━━━━━━━━━━━━━━━━━━\u001b[0m\u001b[37m\u001b[0m \u001b[1m10s\u001b[0m 6ms/step - loss: 0.0373\n",
      "Epoch 2/10\n",
      "\u001b[1m   6/1248\u001b[0m \u001b[37m━━━━━━━━━━━━━━━━━━━━\u001b[0m \u001b[1m12s\u001b[0m 10ms/step - loss: 0.0204 "
     ]
    },
    {
     "name": "stderr",
     "output_type": "stream",
     "text": [
      "C:\\Users\\nikol\\anaconda3\\Lib\\site-packages\\keras\\src\\trainers\\epoch_iterator.py:151: UserWarning: Your input ran out of data; interrupting training. Make sure that your dataset or generator can generate at least `steps_per_epoch * epochs` batches. You may need to use the `.repeat()` function when building your dataset.\n",
      "  self._interrupted_warning()\n"
     ]
    },
    {
     "name": "stdout",
     "output_type": "stream",
     "text": [
      "\u001b[1m1248/1248\u001b[0m \u001b[32m━━━━━━━━━━━━━━━━━━━━\u001b[0m\u001b[37m\u001b[0m \u001b[1m9s\u001b[0m 7ms/step - loss: 0.0238\n",
      "Epoch 3/10\n",
      "\u001b[1m1248/1248\u001b[0m \u001b[32m━━━━━━━━━━━━━━━━━━━━\u001b[0m\u001b[37m\u001b[0m \u001b[1m9s\u001b[0m 7ms/step - loss: 0.0239\n",
      "Epoch 4/10\n",
      "\u001b[1m1248/1248\u001b[0m \u001b[32m━━━━━━━━━━━━━━━━━━━━\u001b[0m\u001b[37m\u001b[0m \u001b[1m10s\u001b[0m 8ms/step - loss: 0.0238\n",
      "Epoch 5/10\n",
      "\u001b[1m1248/1248\u001b[0m \u001b[32m━━━━━━━━━━━━━━━━━━━━\u001b[0m\u001b[37m\u001b[0m \u001b[1m10s\u001b[0m 8ms/step - loss: 0.0237\n",
      "Epoch 6/10\n",
      "\u001b[1m1248/1248\u001b[0m \u001b[32m━━━━━━━━━━━━━━━━━━━━\u001b[0m\u001b[37m\u001b[0m \u001b[1m10s\u001b[0m 8ms/step - loss: 0.0239\n",
      "Epoch 7/10\n",
      "\u001b[1m1248/1248\u001b[0m \u001b[32m━━━━━━━━━━━━━━━━━━━━\u001b[0m\u001b[37m\u001b[0m \u001b[1m10s\u001b[0m 8ms/step - loss: 0.0238\n",
      "Epoch 8/10\n",
      "\u001b[1m1248/1248\u001b[0m \u001b[32m━━━━━━━━━━━━━━━━━━━━\u001b[0m\u001b[37m\u001b[0m \u001b[1m9s\u001b[0m 7ms/step - loss: 0.0239\n",
      "Epoch 9/10\n",
      "\u001b[1m1248/1248\u001b[0m \u001b[32m━━━━━━━━━━━━━━━━━━━━\u001b[0m\u001b[37m\u001b[0m \u001b[1m9s\u001b[0m 7ms/step - loss: 0.0242\n",
      "Epoch 10/10\n",
      "\u001b[1m1248/1248\u001b[0m \u001b[32m━━━━━━━━━━━━━━━━━━━━\u001b[0m\u001b[37m\u001b[0m \u001b[1m8s\u001b[0m 7ms/step - loss: 0.0239\n"
     ]
    }
   ],
   "source": [
    "# Train the model\n",
    "history = model.fit(train_set, epochs=10)"
   ]
  },
  {
   "cell_type": "markdown",
   "id": "G4987zAkS7iU",
   "metadata": {
    "id": "G4987zAkS7iU"
   },
   "source": [
    "Support with chatgtp to accelerate the review"
   ]
  },
  {
   "cell_type": "code",
   "execution_count": 16,
   "id": "H72jZ0Any43v",
   "metadata": {
    "id": "H72jZ0Any43v"
   },
   "outputs": [],
   "source": [
    "def model_forecast(model, series, window_size, batch_size=128):\n",
    "  series = np.array(series)\n",
    "  forecast = []\n",
    "  for time in range(0, len(series) - window_size, batch_size):\n",
    "    batch_end = min(time + batch_size, len(series) - window_size)\n",
    "    windows = np.array([series[i:i + window_size] for i in range(time, batch_end)])\n",
    "    windows = windows.reshape((windows.shape[0], window_size, 1))\n",
    "    predictions = model.predict(windows, verbose=0)\n",
    "    forecast.extend(predictions[:, 0])\n",
    "  return np.array(forecast)"
   ]
  },
  {
   "cell_type": "code",
   "execution_count": 17,
   "id": "754c0cd6-e024-4a52-b085-bb0afdee206a",
   "metadata": {
    "colab": {
     "base_uri": "https://localhost:8080/",
     "height": 564
    },
    "id": "754c0cd6-e024-4a52-b085-bb0afdee206a",
    "outputId": "62e9b1de-8f9b-4789-af0a-58ea5d1344cd"
   },
   "outputs": [
    {
     "data": {
      "image/png": "[encoded data removed]",
      "text/plain": [
       "<Figure size 1000x600 with 1 Axes>"
      ]
     },
     "metadata": {},
     "output_type": "display_data"
    }
   ],
   "source": [
    "# Forecasting\n",
    "forecast = model_forecast(model, x_valid_scaled, window_size)\n",
    "\n",
    "# Rescale forecasted values back to the original scale\n",
    "forecast_rescaled = scaler.inverse_transform(forecast.reshape(-1, 1)).flatten()\n",
    "\n",
    "# Plot the results\n",
    "plt.figure(figsize=(10, 6))\n",
    "plt.plot(time_valid[window_size:], x_valid[window_size:], label=\"Actual\")\n",
    "plt.plot(time_valid[window_size:], forecast_rescaled, label=\"Forecasted\")\n",
    "plt.title(\"Actual vs Forecasted Global Power\")\n",
    "plt.xlabel(\"Time\")\n",
    "plt.ylabel(\"Global Power\")\n",
    "plt.legend()\n",
    "plt.show()"
   ]
  },
  {
   "cell_type": "code",
   "execution_count": 18,
   "id": "1237527f-898d-46fb-aaf4-56a817ca6262",
   "metadata": {
    "id": "1237527f-898d-46fb-aaf4-56a817ca6262"
   },
   "outputs": [],
   "source": [
    "from sklearn.metrics import mean_squared_error\n",
    "\n",
    "# Evaluate the CNN-LSTM-DNN cascaded model\n",
    "# Forecasting on training and validation sets\n",
    "train_forecast_cascaded = model_forecast(model, x_train_scaled, window_size)\n",
    "val_forecast_cascaded = model_forecast(model, x_valid_scaled, window_size)\n",
    "\n",
    "# Rescale the forecasts back to the original scale\n",
    "train_forecast_cascaded_rescaled = scaler.inverse_transform(train_forecast_cascaded.reshape(-1, 1)).flatten()\n",
    "val_forecast_cascaded_rescaled = scaler.inverse_transform(val_forecast_cascaded.reshape(-1, 1)).flatten()\n",
    "\n",
    "# Calculate MSE for the cascaded CNN-LSTM-DNN model\n",
    "train_mse_cascaded = mean_squared_error(x_train[window_size:], train_forecast_cascaded_rescaled)\n",
    "val_mse_cascaded = mean_squared_error(x_valid[window_size:], val_forecast_cascaded_rescaled)"
   ]
  },
  {
   "cell_type": "markdown",
   "id": "e24ad3c9-2b6c-4b22-8b46-0f7fec06c381",
   "metadata": {
    "id": "e24ad3c9-2b6c-4b22-8b46-0f7fec06c381"
   },
   "source": [
    "## Section 4 - Model Comparison"
   ]
  },
  {
   "cell_type": "code",
   "execution_count": 19,
   "id": "1dc55755-ab3d-40ac-b8a6-c23183b0c77b",
   "metadata": {
    "colab": {
     "base_uri": "https://localhost:8080/",
     "height": 0
    },
    "id": "1dc55755-ab3d-40ac-b8a6-c23183b0c77b",
    "outputId": "b16933aa-e113-4737-8c4e-3070e0b35222"
   },
   "outputs": [
    {
     "name": "stdout",
     "output_type": "stream",
     "text": [
      "Comparison of Training and Validation MSE:\n",
      "                   Model  Training MSE  Validation MSE\n",
      "0            Simple LSTM      3.731515        1.660540\n",
      "1  Cascaded CNN-LSTM-DNN      2.523926        3.415227\n"
     ]
    }
   ],
   "source": [
    "from sklearn.metrics import mean_squared_error\n",
    "\n",
    "# Predicting on the training & validation dataset\n",
    "train_forecast = model_forecast(model, x_train_scaled, window_size)\n",
    "val_forecast = model_forecast(model, x_valid_scaled, window_size)\n",
    "\n",
    "# Calculate MSE for the simple LSTM model\n",
    "train_mse_simple = mean_squared_error(x_train[window_size:], train_forecast)\n",
    "val_mse_simple = mean_squared_error(x_valid[window_size:], val_forecast)\n",
    "\n",
    "# Compile the results into a DataFrame for easy comparison\n",
    "results = pd.DataFrame({\n",
    "    \"Model\": [\"Simple LSTM\", \"Cascaded CNN-LSTM-DNN\"],\n",
    "    \"Training MSE\": [train_mse_simple, train_mse_cascaded],\n",
    "    \"Validation MSE\": [val_mse_simple, val_mse_cascaded]\n",
    "})\n",
    "\n",
    "# Display the comparison table\n",
    "print(\"Comparison of Training and Validation MSE:\")\n",
    "print(results)"
   ]
  },
  {
   "cell_type": "code",
   "execution_count": null,
   "id": "be4fd1d3-45c3-4b6d-a607-2b061e0f47a0",
   "metadata": {},
   "outputs": [],
   "source": []
  }
 ],
 "metadata": {
  "colab": {
   "provenance": []
  },
  "kernelspec": {
   "display_name": "Python 3 (ipykernel)",
   "language": "python",
   "name": "python3"
  },
  "language_info": {
   "codemirror_mode": {
    "name": "ipython",
    "version": 3
   },
   "file_extension": ".py",
   "mimetype": "text/x-python",
   "name": "python",
   "nbconvert_exporter": "python",
   "pygments_lexer": "ipython3",
   "version": "3.12.7"
  }
 },
 "nbformat": 4,
 "nbformat_minor": 5
}
